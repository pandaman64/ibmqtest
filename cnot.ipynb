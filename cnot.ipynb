{
 "cells": [
  {
   "cell_type": "code",
   "execution_count": 2,
   "metadata": {},
   "outputs": [],
   "source": [
    "import numpy as np\n",
    "import matplotlib.pyplot as plt\n",
    "%matplotlib inline\n",
    "\n",
    "from IPython.display import SVG, display\n",
    "from qasm2image import qasm2svg\n",
    "\n",
    "# Define the basis used to represent the circuit\n",
    "basis = 'x,y,z,h,cx'\n",
    "\n",
    "import cnot"
   ]
  },
  {
   "cell_type": "code",
   "execution_count": 4,
   "metadata": {},
   "outputs": [],
   "source": [
    "def doit(num, init):\n",
    "    qp = cnot.cnot_experiment(num, init)\n",
    "    qasm = qp.get_circuit('CNOT').qasm()\n",
    "    svg = qasm2svg(qasm, basis=basis)\n",
    "    display(SVG(data=svg))\n",
    "    print(qp.execute('CNOT').get_counts())"
   ]
  },
  {
   "cell_type": "code",
   "execution_count": 10,
   "metadata": {},
   "outputs": [
    {
     "name": "stderr",
     "output_type": "stream",
     "text": [
      "/nix/store/4n27q8xz4fw5028x3zhmdg5bpr1ap0jm-python3.6-qiskit-0.4.15/lib/python3.6/site-packages/qiskit/_quantumprogram.py:707: DeprecationWarning: set_api() will be deprecated in upcoming versions (>0.5.0). Using the API object instead is recommended.\n",
      "  \"Using the API object instead is recommended.\", DeprecationWarning)\n"
     ]
    },
    {
     "data": {
      "image/svg+xml": [
       "<svg baseProfile=\"full\" height=\"650px\" version=\"1.1\" width=\"850px\" xmlns=\"http://www.w3.org/2000/svg\" xmlns:ev=\"http://www.w3.org/2001/xml-events\" xmlns:xlink=\"http://www.w3.org/1999/xlink\"><defs/><text font-size=\"53\" text-anchor=\"end\" x=\"140\" y=\"119.43333333333334\">qr[0]</text><text font-size=\"53\" text-anchor=\"end\" x=\"140\" y=\"269.43333333333334\">qr[1]</text><text font-size=\"53\" text-anchor=\"end\" x=\"140\" y=\"419.43333333333334\">qc[0]</text><text font-size=\"53\" text-anchor=\"end\" x=\"140\" y=\"569.4333333333333\">qc[1]</text><text font-size=\"53\" text-anchor=\"end\" x=\"140\" y=\"719.4333333333333\">qc[2]</text><line stroke=\"black\" stroke-width=\"2\" x1=\"150\" x2=\"850\" y1=\"100\" y2=\"100\"/><line stroke=\"black\" stroke-width=\"2\" x1=\"150\" x2=\"850\" y1=\"250\" y2=\"250\"/><line stroke=\"black\" stroke-width=\"2\" x1=\"150\" x2=\"850\" y1=\"398\" y2=\"398\"/><line stroke=\"black\" stroke-width=\"2\" x1=\"150\" x2=\"850\" y1=\"402\" y2=\"402\"/><line stroke=\"black\" stroke-width=\"2\" x1=\"150\" x2=\"850\" y1=\"548\" y2=\"548\"/><line stroke=\"black\" stroke-width=\"2\" x1=\"150\" x2=\"850\" y1=\"552\" y2=\"552\"/><line stroke=\"black\" stroke-width=\"2\" x1=\"300.0\" x2=\"300.0\" y1=\"100\" y2=\"250\"/><circle cx=\"300.0\" cy=\"100\" fill=\"black\" r=\"10.0\" stroke=\"black\" stroke-width=\"2\"/><circle cx=\"300.0\" cy=\"250\" fill=\"white\" r=\"50.0\" stroke=\"black\" stroke-width=\"2\"/><line stroke=\"black\" stroke-width=\"2\" x1=\"250.0\" x2=\"350.0\" y1=\"250\" y2=\"250\"/><line stroke=\"black\" stroke-width=\"2\" x1=\"300.0\" x2=\"300.0\" y1=\"200.0\" y2=\"300.0\"/><line stroke=\"black\" stroke-width=\"2\" x1=\"498.0\" x2=\"498.0\" y1=\"100\" y2=\"400\"/><line stroke=\"black\" stroke-width=\"2\" x1=\"502.0\" x2=\"502.0\" y1=\"100\" y2=\"400\"/><rect fill=\"black\" height=\"20\" stroke=\"black\" stroke-width=\"2\" width=\"20\" x=\"490.0\" y=\"390.0\"/><rect fill=\"white\" height=\"100\" stroke=\"black\" stroke-width=\"2\" width=\"100\" x=\"450.0\" y=\"50.0\"/><text font-size=\"114\" text-anchor=\"middle\" x=\"500.0\" y=\"141.8\">M</text><line stroke=\"black\" stroke-width=\"2\" x1=\"698.0\" x2=\"698.0\" y1=\"250\" y2=\"550\"/><line stroke=\"black\" stroke-width=\"2\" x1=\"702.0\" x2=\"702.0\" y1=\"250\" y2=\"550\"/><rect fill=\"black\" height=\"20\" stroke=\"black\" stroke-width=\"2\" width=\"20\" x=\"690.0\" y=\"540.0\"/><rect fill=\"white\" height=\"100\" stroke=\"black\" stroke-width=\"2\" width=\"100\" x=\"650.0\" y=\"200.0\"/><text font-size=\"114\" text-anchor=\"middle\" x=\"700.0\" y=\"291.8\">M</text></svg>"
      ],
      "text/plain": [
       "<IPython.core.display.SVG object>"
      ]
     },
     "metadata": {},
     "output_type": "display_data"
    },
    {
     "name": "stdout",
     "output_type": "stream",
     "text": [
      "{'00': 1024}\n"
     ]
    }
   ],
   "source": [
    "doit(2, cnot.set_zero)"
   ]
  },
  {
   "cell_type": "code",
   "execution_count": 11,
   "metadata": {},
   "outputs": [
    {
     "name": "stderr",
     "output_type": "stream",
     "text": [
      "/nix/store/4n27q8xz4fw5028x3zhmdg5bpr1ap0jm-python3.6-qiskit-0.4.15/lib/python3.6/site-packages/qiskit/_quantumprogram.py:707: DeprecationWarning: set_api() will be deprecated in upcoming versions (>0.5.0). Using the API object instead is recommended.\n",
      "  \"Using the API object instead is recommended.\", DeprecationWarning)\n"
     ]
    },
    {
     "data": {
      "image/svg+xml": [
       "<svg baseProfile=\"full\" height=\"650px\" version=\"1.1\" width=\"1050px\" xmlns=\"http://www.w3.org/2000/svg\" xmlns:ev=\"http://www.w3.org/2001/xml-events\" xmlns:xlink=\"http://www.w3.org/1999/xlink\"><defs/><text font-size=\"53\" text-anchor=\"end\" x=\"140\" y=\"119.43333333333334\">qr[0]</text><text font-size=\"53\" text-anchor=\"end\" x=\"140\" y=\"269.43333333333334\">qr[1]</text><text font-size=\"53\" text-anchor=\"end\" x=\"140\" y=\"419.43333333333334\">qc[0]</text><text font-size=\"53\" text-anchor=\"end\" x=\"140\" y=\"569.4333333333333\">qc[1]</text><text font-size=\"53\" text-anchor=\"end\" x=\"140\" y=\"719.4333333333333\">qc[2]</text><line stroke=\"black\" stroke-width=\"2\" x1=\"150\" x2=\"1050\" y1=\"100\" y2=\"100\"/><line stroke=\"black\" stroke-width=\"2\" x1=\"150\" x2=\"1050\" y1=\"250\" y2=\"250\"/><line stroke=\"black\" stroke-width=\"2\" x1=\"150\" x2=\"1050\" y1=\"398\" y2=\"398\"/><line stroke=\"black\" stroke-width=\"2\" x1=\"150\" x2=\"1050\" y1=\"402\" y2=\"402\"/><line stroke=\"black\" stroke-width=\"2\" x1=\"150\" x2=\"1050\" y1=\"548\" y2=\"548\"/><line stroke=\"black\" stroke-width=\"2\" x1=\"150\" x2=\"1050\" y1=\"552\" y2=\"552\"/><rect fill=\"white\" height=\"100\" stroke=\"black\" stroke-width=\"2\" width=\"100\" x=\"250.0\" y=\"50.0\"/><text font-size=\"116\" text-anchor=\"middle\" x=\"300.0\" y=\"142.53333333333333\">X</text><line stroke=\"black\" stroke-width=\"2\" x1=\"500.0\" x2=\"500.0\" y1=\"100\" y2=\"250\"/><circle cx=\"500.0\" cy=\"100\" fill=\"black\" r=\"10.0\" stroke=\"black\" stroke-width=\"2\"/><circle cx=\"500.0\" cy=\"250\" fill=\"white\" r=\"50.0\" stroke=\"black\" stroke-width=\"2\"/><line stroke=\"black\" stroke-width=\"2\" x1=\"450.0\" x2=\"550.0\" y1=\"250\" y2=\"250\"/><line stroke=\"black\" stroke-width=\"2\" x1=\"500.0\" x2=\"500.0\" y1=\"200.0\" y2=\"300.0\"/><line stroke=\"black\" stroke-width=\"2\" x1=\"698.0\" x2=\"698.0\" y1=\"100\" y2=\"400\"/><line stroke=\"black\" stroke-width=\"2\" x1=\"702.0\" x2=\"702.0\" y1=\"100\" y2=\"400\"/><rect fill=\"black\" height=\"20\" stroke=\"black\" stroke-width=\"2\" width=\"20\" x=\"690.0\" y=\"390.0\"/><rect fill=\"white\" height=\"100\" stroke=\"black\" stroke-width=\"2\" width=\"100\" x=\"650.0\" y=\"50.0\"/><text font-size=\"114\" text-anchor=\"middle\" x=\"700.0\" y=\"141.8\">M</text><line stroke=\"black\" stroke-width=\"2\" x1=\"898.0\" x2=\"898.0\" y1=\"250\" y2=\"550\"/><line stroke=\"black\" stroke-width=\"2\" x1=\"902.0\" x2=\"902.0\" y1=\"250\" y2=\"550\"/><rect fill=\"black\" height=\"20\" stroke=\"black\" stroke-width=\"2\" width=\"20\" x=\"890.0\" y=\"540.0\"/><rect fill=\"white\" height=\"100\" stroke=\"black\" stroke-width=\"2\" width=\"100\" x=\"850.0\" y=\"200.0\"/><text font-size=\"114\" text-anchor=\"middle\" x=\"900.0\" y=\"291.8\">M</text></svg>"
      ],
      "text/plain": [
       "<IPython.core.display.SVG object>"
      ]
     },
     "metadata": {},
     "output_type": "display_data"
    },
    {
     "name": "stdout",
     "output_type": "stream",
     "text": [
      "{'11': 1024}\n"
     ]
    }
   ],
   "source": [
    "doit(2, cnot.set_one)"
   ]
  },
  {
   "cell_type": "code",
   "execution_count": 12,
   "metadata": {},
   "outputs": [
    {
     "name": "stderr",
     "output_type": "stream",
     "text": [
      "/nix/store/4n27q8xz4fw5028x3zhmdg5bpr1ap0jm-python3.6-qiskit-0.4.15/lib/python3.6/site-packages/qiskit/_quantumprogram.py:707: DeprecationWarning: set_api() will be deprecated in upcoming versions (>0.5.0). Using the API object instead is recommended.\n",
      "  \"Using the API object instead is recommended.\", DeprecationWarning)\n"
     ]
    },
    {
     "data": {
      "image/svg+xml": [
       "<svg baseProfile=\"full\" height=\"650px\" version=\"1.1\" width=\"1050px\" xmlns=\"http://www.w3.org/2000/svg\" xmlns:ev=\"http://www.w3.org/2001/xml-events\" xmlns:xlink=\"http://www.w3.org/1999/xlink\"><defs/><text font-size=\"53\" text-anchor=\"end\" x=\"140\" y=\"119.43333333333334\">qr[0]</text><text font-size=\"53\" text-anchor=\"end\" x=\"140\" y=\"269.43333333333334\">qr[1]</text><text font-size=\"53\" text-anchor=\"end\" x=\"140\" y=\"419.43333333333334\">qc[0]</text><text font-size=\"53\" text-anchor=\"end\" x=\"140\" y=\"569.4333333333333\">qc[1]</text><text font-size=\"53\" text-anchor=\"end\" x=\"140\" y=\"719.4333333333333\">qc[2]</text><line stroke=\"black\" stroke-width=\"2\" x1=\"150\" x2=\"1050\" y1=\"100\" y2=\"100\"/><line stroke=\"black\" stroke-width=\"2\" x1=\"150\" x2=\"1050\" y1=\"250\" y2=\"250\"/><line stroke=\"black\" stroke-width=\"2\" x1=\"150\" x2=\"1050\" y1=\"398\" y2=\"398\"/><line stroke=\"black\" stroke-width=\"2\" x1=\"150\" x2=\"1050\" y1=\"402\" y2=\"402\"/><line stroke=\"black\" stroke-width=\"2\" x1=\"150\" x2=\"1050\" y1=\"548\" y2=\"548\"/><line stroke=\"black\" stroke-width=\"2\" x1=\"150\" x2=\"1050\" y1=\"552\" y2=\"552\"/><rect fill=\"white\" height=\"100\" stroke=\"black\" stroke-width=\"2\" width=\"100\" x=\"250.0\" y=\"50.0\"/><text font-size=\"116\" text-anchor=\"middle\" x=\"300.0\" y=\"142.53333333333333\">H</text><line stroke=\"black\" stroke-width=\"2\" x1=\"500.0\" x2=\"500.0\" y1=\"100\" y2=\"250\"/><circle cx=\"500.0\" cy=\"100\" fill=\"black\" r=\"10.0\" stroke=\"black\" stroke-width=\"2\"/><circle cx=\"500.0\" cy=\"250\" fill=\"white\" r=\"50.0\" stroke=\"black\" stroke-width=\"2\"/><line stroke=\"black\" stroke-width=\"2\" x1=\"450.0\" x2=\"550.0\" y1=\"250\" y2=\"250\"/><line stroke=\"black\" stroke-width=\"2\" x1=\"500.0\" x2=\"500.0\" y1=\"200.0\" y2=\"300.0\"/><line stroke=\"black\" stroke-width=\"2\" x1=\"698.0\" x2=\"698.0\" y1=\"100\" y2=\"400\"/><line stroke=\"black\" stroke-width=\"2\" x1=\"702.0\" x2=\"702.0\" y1=\"100\" y2=\"400\"/><rect fill=\"black\" height=\"20\" stroke=\"black\" stroke-width=\"2\" width=\"20\" x=\"690.0\" y=\"390.0\"/><rect fill=\"white\" height=\"100\" stroke=\"black\" stroke-width=\"2\" width=\"100\" x=\"650.0\" y=\"50.0\"/><text font-size=\"114\" text-anchor=\"middle\" x=\"700.0\" y=\"141.8\">M</text><line stroke=\"black\" stroke-width=\"2\" x1=\"898.0\" x2=\"898.0\" y1=\"250\" y2=\"550\"/><line stroke=\"black\" stroke-width=\"2\" x1=\"902.0\" x2=\"902.0\" y1=\"250\" y2=\"550\"/><rect fill=\"black\" height=\"20\" stroke=\"black\" stroke-width=\"2\" width=\"20\" x=\"890.0\" y=\"540.0\"/><rect fill=\"white\" height=\"100\" stroke=\"black\" stroke-width=\"2\" width=\"100\" x=\"850.0\" y=\"200.0\"/><text font-size=\"114\" text-anchor=\"middle\" x=\"900.0\" y=\"291.8\">M</text></svg>"
      ],
      "text/plain": [
       "<IPython.core.display.SVG object>"
      ]
     },
     "metadata": {},
     "output_type": "display_data"
    },
    {
     "name": "stdout",
     "output_type": "stream",
     "text": [
      "{'11': 510, '00': 514}\n"
     ]
    }
   ],
   "source": [
    "doit(2, cnot.set_plus)"
   ]
  },
  {
   "cell_type": "code",
   "execution_count": 13,
   "metadata": {},
   "outputs": [
    {
     "name": "stderr",
     "output_type": "stream",
     "text": [
      "/nix/store/4n27q8xz4fw5028x3zhmdg5bpr1ap0jm-python3.6-qiskit-0.4.15/lib/python3.6/site-packages/qiskit/_quantumprogram.py:707: DeprecationWarning: set_api() will be deprecated in upcoming versions (>0.5.0). Using the API object instead is recommended.\n",
      "  \"Using the API object instead is recommended.\", DeprecationWarning)\n"
     ]
    },
    {
     "data": {
      "image/svg+xml": [
       "<svg baseProfile=\"full\" height=\"1250px\" version=\"1.1\" width=\"1850px\" xmlns=\"http://www.w3.org/2000/svg\" xmlns:ev=\"http://www.w3.org/2001/xml-events\" xmlns:xlink=\"http://www.w3.org/1999/xlink\"><defs/><text font-size=\"53\" text-anchor=\"end\" x=\"140\" y=\"119.43333333333334\">qr[0]</text><text font-size=\"53\" text-anchor=\"end\" x=\"140\" y=\"269.43333333333334\">qr[1]</text><text font-size=\"53\" text-anchor=\"end\" x=\"140\" y=\"419.43333333333334\">qr[2]</text><text font-size=\"53\" text-anchor=\"end\" x=\"140\" y=\"569.4333333333333\">qr[3]</text><text font-size=\"53\" text-anchor=\"end\" x=\"140\" y=\"719.4333333333333\">qc[0]</text><text font-size=\"53\" text-anchor=\"end\" x=\"140\" y=\"869.4333333333333\">qc[1]</text><text font-size=\"53\" text-anchor=\"end\" x=\"140\" y=\"1019.4333333333333\">qc[2]</text><text font-size=\"53\" text-anchor=\"end\" x=\"140\" y=\"1169.4333333333334\">qc[3]</text><text font-size=\"53\" text-anchor=\"end\" x=\"140\" y=\"1319.4333333333334\">qc[4]</text><line stroke=\"black\" stroke-width=\"2\" x1=\"150\" x2=\"1850\" y1=\"100\" y2=\"100\"/><line stroke=\"black\" stroke-width=\"2\" x1=\"150\" x2=\"1850\" y1=\"250\" y2=\"250\"/><line stroke=\"black\" stroke-width=\"2\" x1=\"150\" x2=\"1850\" y1=\"400\" y2=\"400\"/><line stroke=\"black\" stroke-width=\"2\" x1=\"150\" x2=\"1850\" y1=\"550\" y2=\"550\"/><line stroke=\"black\" stroke-width=\"2\" x1=\"150\" x2=\"1850\" y1=\"698\" y2=\"698\"/><line stroke=\"black\" stroke-width=\"2\" x1=\"150\" x2=\"1850\" y1=\"702\" y2=\"702\"/><line stroke=\"black\" stroke-width=\"2\" x1=\"150\" x2=\"1850\" y1=\"848\" y2=\"848\"/><line stroke=\"black\" stroke-width=\"2\" x1=\"150\" x2=\"1850\" y1=\"852\" y2=\"852\"/><line stroke=\"black\" stroke-width=\"2\" x1=\"150\" x2=\"1850\" y1=\"998\" y2=\"998\"/><line stroke=\"black\" stroke-width=\"2\" x1=\"150\" x2=\"1850\" y1=\"1002\" y2=\"1002\"/><line stroke=\"black\" stroke-width=\"2\" x1=\"150\" x2=\"1850\" y1=\"1148\" y2=\"1148\"/><line stroke=\"black\" stroke-width=\"2\" x1=\"150\" x2=\"1850\" y1=\"1152\" y2=\"1152\"/><rect fill=\"white\" height=\"100\" stroke=\"black\" stroke-width=\"2\" width=\"100\" x=\"250.0\" y=\"50.0\"/><text font-size=\"116\" text-anchor=\"middle\" x=\"300.0\" y=\"142.53333333333333\">H</text><line stroke=\"black\" stroke-width=\"2\" x1=\"500.0\" x2=\"500.0\" y1=\"100\" y2=\"250\"/><circle cx=\"500.0\" cy=\"100\" fill=\"black\" r=\"10.0\" stroke=\"black\" stroke-width=\"2\"/><circle cx=\"500.0\" cy=\"250\" fill=\"white\" r=\"50.0\" stroke=\"black\" stroke-width=\"2\"/><line stroke=\"black\" stroke-width=\"2\" x1=\"450.0\" x2=\"550.0\" y1=\"250\" y2=\"250\"/><line stroke=\"black\" stroke-width=\"2\" x1=\"500.0\" x2=\"500.0\" y1=\"200.0\" y2=\"300.0\"/><line stroke=\"black\" stroke-width=\"2\" x1=\"700.0\" x2=\"700.0\" y1=\"250\" y2=\"400\"/><circle cx=\"700.0\" cy=\"250\" fill=\"black\" r=\"10.0\" stroke=\"black\" stroke-width=\"2\"/><circle cx=\"700.0\" cy=\"400\" fill=\"white\" r=\"50.0\" stroke=\"black\" stroke-width=\"2\"/><line stroke=\"black\" stroke-width=\"2\" x1=\"650.0\" x2=\"750.0\" y1=\"400\" y2=\"400\"/><line stroke=\"black\" stroke-width=\"2\" x1=\"700.0\" x2=\"700.0\" y1=\"350.0\" y2=\"450.0\"/><line stroke=\"black\" stroke-width=\"2\" x1=\"900.0\" x2=\"900.0\" y1=\"400\" y2=\"550\"/><circle cx=\"900.0\" cy=\"400\" fill=\"black\" r=\"10.0\" stroke=\"black\" stroke-width=\"2\"/><circle cx=\"900.0\" cy=\"550\" fill=\"white\" r=\"50.0\" stroke=\"black\" stroke-width=\"2\"/><line stroke=\"black\" stroke-width=\"2\" x1=\"850.0\" x2=\"950.0\" y1=\"550\" y2=\"550\"/><line stroke=\"black\" stroke-width=\"2\" x1=\"900.0\" x2=\"900.0\" y1=\"500.0\" y2=\"600.0\"/><line stroke=\"black\" stroke-width=\"2\" x1=\"1098.0\" x2=\"1098.0\" y1=\"100\" y2=\"700\"/><line stroke=\"black\" stroke-width=\"2\" x1=\"1102.0\" x2=\"1102.0\" y1=\"100\" y2=\"700\"/><rect fill=\"black\" height=\"20\" stroke=\"black\" stroke-width=\"2\" width=\"20\" x=\"1090.0\" y=\"690.0\"/><rect fill=\"white\" height=\"100\" stroke=\"black\" stroke-width=\"2\" width=\"100\" x=\"1050.0\" y=\"50.0\"/><text font-size=\"114\" text-anchor=\"middle\" x=\"1100.0\" y=\"141.8\">M</text><line stroke=\"black\" stroke-width=\"2\" x1=\"1298.0\" x2=\"1298.0\" y1=\"250\" y2=\"850\"/><line stroke=\"black\" stroke-width=\"2\" x1=\"1302.0\" x2=\"1302.0\" y1=\"250\" y2=\"850\"/><rect fill=\"black\" height=\"20\" stroke=\"black\" stroke-width=\"2\" width=\"20\" x=\"1290.0\" y=\"840.0\"/><rect fill=\"white\" height=\"100\" stroke=\"black\" stroke-width=\"2\" width=\"100\" x=\"1250.0\" y=\"200.0\"/><text font-size=\"114\" text-anchor=\"middle\" x=\"1300.0\" y=\"291.8\">M</text><line stroke=\"black\" stroke-width=\"2\" x1=\"1498.0\" x2=\"1498.0\" y1=\"400\" y2=\"1000\"/><line stroke=\"black\" stroke-width=\"2\" x1=\"1502.0\" x2=\"1502.0\" y1=\"400\" y2=\"1000\"/><rect fill=\"black\" height=\"20\" stroke=\"black\" stroke-width=\"2\" width=\"20\" x=\"1490.0\" y=\"990.0\"/><rect fill=\"white\" height=\"100\" stroke=\"black\" stroke-width=\"2\" width=\"100\" x=\"1450.0\" y=\"350.0\"/><text font-size=\"114\" text-anchor=\"middle\" x=\"1500.0\" y=\"441.8\">M</text><line stroke=\"black\" stroke-width=\"2\" x1=\"1698.0\" x2=\"1698.0\" y1=\"550\" y2=\"1150\"/><line stroke=\"black\" stroke-width=\"2\" x1=\"1702.0\" x2=\"1702.0\" y1=\"550\" y2=\"1150\"/><rect fill=\"black\" height=\"20\" stroke=\"black\" stroke-width=\"2\" width=\"20\" x=\"1690.0\" y=\"1140.0\"/><rect fill=\"white\" height=\"100\" stroke=\"black\" stroke-width=\"2\" width=\"100\" x=\"1650.0\" y=\"500.0\"/><text font-size=\"114\" text-anchor=\"middle\" x=\"1700.0\" y=\"591.8\">M</text></svg>"
      ],
      "text/plain": [
       "<IPython.core.display.SVG object>"
      ]
     },
     "metadata": {},
     "output_type": "display_data"
    },
    {
     "name": "stdout",
     "output_type": "stream",
     "text": [
      "{'1111': 531, '0000': 493}\n"
     ]
    }
   ],
   "source": [
    "doit(4, cnot.set_plus)"
   ]
  },
  {
   "cell_type": "code",
   "execution_count": 3,
   "metadata": {},
   "outputs": [
    {
     "name": "stderr",
     "output_type": "stream",
     "text": [
      "/nix/store/4n27q8xz4fw5028x3zhmdg5bpr1ap0jm-python3.6-qiskit-0.4.15/lib/python3.6/site-packages/qiskit/_quantumprogram.py:707: DeprecationWarning: set_api() will be deprecated in upcoming versions (>0.5.0). Using the API object instead is recommended.\n",
      "  \"Using the API object instead is recommended.\", DeprecationWarning)\n"
     ]
    },
    {
     "name": "stdout",
     "output_type": "stream",
     "text": [
      "{'0000000000000000': 531, '0000000000000001': 65, '0000000000000010': 62, '0000000000000011': 366}\n"
     ]
    }
   ],
   "source": [
    "qp = cnot.cnot_experiment(2, cnot.set_plus)\n",
    "result = qp.execute('CNOT', backend='ibmqx5')\n",
    "print(result.get_counts())"
   ]
  },
  {
   "cell_type": "code",
   "execution_count": 4,
   "metadata": {},
   "outputs": [
    {
     "name": "stderr",
     "output_type": "stream",
     "text": [
      "/nix/store/4n27q8xz4fw5028x3zhmdg5bpr1ap0jm-python3.6-qiskit-0.4.15/lib/python3.6/site-packages/qiskit/_quantumprogram.py:707: DeprecationWarning: set_api() will be deprecated in upcoming versions (>0.5.0). Using the API object instead is recommended.\n",
      "  \"Using the API object instead is recommended.\", DeprecationWarning)\n"
     ]
    },
    {
     "name": "stdout",
     "output_type": "stream",
     "text": [
      "{'0000000000000000': 444, '0000000000000001': 39, '0000000000000010': 13, '0000000000000011': 17, '0000000000000100': 8, '0000000000000101': 3, '0000000000000110': 7, '0000000000000111': 29, '0000000000001000': 22, '0000000000001001': 11, '0000000000001010': 4, '0000000000001011': 31, '0000000000001100': 30, '0000000000001101': 47, '0000000000001110': 39, '0000000000001111': 280}\n"
     ]
    }
   ],
   "source": [
    "qp = cnot.cnot_experiment(4, cnot.set_plus)\n",
    "result = qp.execute('CNOT', backend='ibmqx5')\n",
    "print(result.get_counts())"
   ]
  },
  {
   "cell_type": "code",
   "execution_count": 5,
   "metadata": {},
   "outputs": [
    {
     "name": "stderr",
     "output_type": "stream",
     "text": [
      "/nix/store/4n27q8xz4fw5028x3zhmdg5bpr1ap0jm-python3.6-qiskit-0.4.15/lib/python3.6/site-packages/qiskit/_quantumprogram.py:707: DeprecationWarning: set_api() will be deprecated in upcoming versions (>0.5.0). Using the API object instead is recommended.\n",
      "  \"Using the API object instead is recommended.\", DeprecationWarning)\n"
     ]
    },
    {
     "data": {
      "image/svg+xml": [
       "<svg baseProfile=\"full\" height=\"650px\" version=\"1.1\" width=\"1050px\" xmlns=\"http://www.w3.org/2000/svg\" xmlns:ev=\"http://www.w3.org/2001/xml-events\" xmlns:xlink=\"http://www.w3.org/1999/xlink\"><defs/><text font-size=\"53\" text-anchor=\"end\" x=\"140\" y=\"119.43333333333334\">qr[0]</text><text font-size=\"53\" text-anchor=\"end\" x=\"140\" y=\"269.43333333333334\">qr[1]</text><text font-size=\"53\" text-anchor=\"end\" x=\"140\" y=\"419.43333333333334\">qc[0]</text><text font-size=\"53\" text-anchor=\"end\" x=\"140\" y=\"569.4333333333333\">qc[1]</text><text font-size=\"53\" text-anchor=\"end\" x=\"140\" y=\"719.4333333333333\">qc[2]</text><line stroke=\"black\" stroke-width=\"2\" x1=\"150\" x2=\"1050\" y1=\"100\" y2=\"100\"/><line stroke=\"black\" stroke-width=\"2\" x1=\"150\" x2=\"1050\" y1=\"250\" y2=\"250\"/><line stroke=\"black\" stroke-width=\"2\" x1=\"150\" x2=\"1050\" y1=\"398\" y2=\"398\"/><line stroke=\"black\" stroke-width=\"2\" x1=\"150\" x2=\"1050\" y1=\"402\" y2=\"402\"/><line stroke=\"black\" stroke-width=\"2\" x1=\"150\" x2=\"1050\" y1=\"548\" y2=\"548\"/><line stroke=\"black\" stroke-width=\"2\" x1=\"150\" x2=\"1050\" y1=\"552\" y2=\"552\"/><rect fill=\"white\" height=\"100\" stroke=\"black\" stroke-width=\"2\" width=\"100\" x=\"250.0\" y=\"50.0\"/><text font-size=\"116\" text-anchor=\"middle\" x=\"300.0\" y=\"142.53333333333333\">H</text><line stroke=\"black\" stroke-width=\"2\" x1=\"500.0\" x2=\"500.0\" y1=\"100\" y2=\"250\"/><circle cx=\"500.0\" cy=\"100\" fill=\"black\" r=\"10.0\" stroke=\"black\" stroke-width=\"2\"/><circle cx=\"500.0\" cy=\"250\" fill=\"white\" r=\"50.0\" stroke=\"black\" stroke-width=\"2\"/><line stroke=\"black\" stroke-width=\"2\" x1=\"450.0\" x2=\"550.0\" y1=\"250\" y2=\"250\"/><line stroke=\"black\" stroke-width=\"2\" x1=\"500.0\" x2=\"500.0\" y1=\"200.0\" y2=\"300.0\"/><line stroke=\"black\" stroke-width=\"2\" x1=\"698.0\" x2=\"698.0\" y1=\"100\" y2=\"400\"/><line stroke=\"black\" stroke-width=\"2\" x1=\"702.0\" x2=\"702.0\" y1=\"100\" y2=\"400\"/><rect fill=\"black\" height=\"20\" stroke=\"black\" stroke-width=\"2\" width=\"20\" x=\"690.0\" y=\"390.0\"/><rect fill=\"white\" height=\"100\" stroke=\"black\" stroke-width=\"2\" width=\"100\" x=\"650.0\" y=\"50.0\"/><text font-size=\"114\" text-anchor=\"middle\" x=\"700.0\" y=\"141.8\">M</text><line stroke=\"black\" stroke-width=\"2\" x1=\"898.0\" x2=\"898.0\" y1=\"250\" y2=\"550\"/><line stroke=\"black\" stroke-width=\"2\" x1=\"902.0\" x2=\"902.0\" y1=\"250\" y2=\"550\"/><rect fill=\"black\" height=\"20\" stroke=\"black\" stroke-width=\"2\" width=\"20\" x=\"890.0\" y=\"540.0\"/><rect fill=\"white\" height=\"100\" stroke=\"black\" stroke-width=\"2\" width=\"100\" x=\"850.0\" y=\"200.0\"/><text font-size=\"114\" text-anchor=\"middle\" x=\"900.0\" y=\"291.8\">M</text></svg>"
      ],
      "text/plain": [
       "<IPython.core.display.SVG object>"
      ]
     },
     "metadata": {},
     "output_type": "display_data"
    },
    {
     "name": "stdout",
     "output_type": "stream",
     "text": [
      "{'0000000000000000': 539, '0000000000000001': 63, '0000000000000010': 71, '0000000000000011': 351}\n"
     ]
    }
   ],
   "source": [
    "qp = cnot.cnot_experiment(2, cnot.set_plus)\n",
    "qasm = qp.get_circuit('CNOT').qasm()\n",
    "svg = qasm2svg(qasm, basis=basis)\n",
    "display(SVG(data=svg))\n",
    "result = qp.execute('CNOT', backend='ibmqx5')\n",
    "print(result.get_counts())"
   ]
  },
  {
   "cell_type": "code",
   "execution_count": 6,
   "metadata": {},
   "outputs": [
    {
     "name": "stderr",
     "output_type": "stream",
     "text": [
      "/nix/store/4n27q8xz4fw5028x3zhmdg5bpr1ap0jm-python3.6-qiskit-0.4.15/lib/python3.6/site-packages/qiskit/_quantumprogram.py:707: DeprecationWarning: set_api() will be deprecated in upcoming versions (>0.5.0). Using the API object instead is recommended.\n",
      "  \"Using the API object instead is recommended.\", DeprecationWarning)\n"
     ]
    },
    {
     "data": {
      "image/svg+xml": [
       "<svg baseProfile=\"full\" height=\"650px\" version=\"1.1\" width=\"1050px\" xmlns=\"http://www.w3.org/2000/svg\" xmlns:ev=\"http://www.w3.org/2001/xml-events\" xmlns:xlink=\"http://www.w3.org/1999/xlink\"><defs/><text font-size=\"53\" text-anchor=\"end\" x=\"140\" y=\"119.43333333333334\">qr[0]</text><text font-size=\"53\" text-anchor=\"end\" x=\"140\" y=\"269.43333333333334\">qr[1]</text><text font-size=\"53\" text-anchor=\"end\" x=\"140\" y=\"419.43333333333334\">qc[0]</text><text font-size=\"53\" text-anchor=\"end\" x=\"140\" y=\"569.4333333333333\">qc[1]</text><text font-size=\"53\" text-anchor=\"end\" x=\"140\" y=\"719.4333333333333\">qc[2]</text><line stroke=\"black\" stroke-width=\"2\" x1=\"150\" x2=\"1050\" y1=\"100\" y2=\"100\"/><line stroke=\"black\" stroke-width=\"2\" x1=\"150\" x2=\"1050\" y1=\"250\" y2=\"250\"/><line stroke=\"black\" stroke-width=\"2\" x1=\"150\" x2=\"1050\" y1=\"398\" y2=\"398\"/><line stroke=\"black\" stroke-width=\"2\" x1=\"150\" x2=\"1050\" y1=\"402\" y2=\"402\"/><line stroke=\"black\" stroke-width=\"2\" x1=\"150\" x2=\"1050\" y1=\"548\" y2=\"548\"/><line stroke=\"black\" stroke-width=\"2\" x1=\"150\" x2=\"1050\" y1=\"552\" y2=\"552\"/><rect fill=\"white\" height=\"100\" stroke=\"black\" stroke-width=\"2\" width=\"100\" x=\"250.0\" y=\"50.0\"/><text font-size=\"116\" text-anchor=\"middle\" x=\"300.0\" y=\"142.53333333333333\">X</text><line stroke=\"black\" stroke-width=\"2\" x1=\"500.0\" x2=\"500.0\" y1=\"100\" y2=\"250\"/><circle cx=\"500.0\" cy=\"100\" fill=\"black\" r=\"10.0\" stroke=\"black\" stroke-width=\"2\"/><circle cx=\"500.0\" cy=\"250\" fill=\"white\" r=\"50.0\" stroke=\"black\" stroke-width=\"2\"/><line stroke=\"black\" stroke-width=\"2\" x1=\"450.0\" x2=\"550.0\" y1=\"250\" y2=\"250\"/><line stroke=\"black\" stroke-width=\"2\" x1=\"500.0\" x2=\"500.0\" y1=\"200.0\" y2=\"300.0\"/><line stroke=\"black\" stroke-width=\"2\" x1=\"698.0\" x2=\"698.0\" y1=\"100\" y2=\"400\"/><line stroke=\"black\" stroke-width=\"2\" x1=\"702.0\" x2=\"702.0\" y1=\"100\" y2=\"400\"/><rect fill=\"black\" height=\"20\" stroke=\"black\" stroke-width=\"2\" width=\"20\" x=\"690.0\" y=\"390.0\"/><rect fill=\"white\" height=\"100\" stroke=\"black\" stroke-width=\"2\" width=\"100\" x=\"650.0\" y=\"50.0\"/><text font-size=\"114\" text-anchor=\"middle\" x=\"700.0\" y=\"141.8\">M</text><line stroke=\"black\" stroke-width=\"2\" x1=\"898.0\" x2=\"898.0\" y1=\"250\" y2=\"550\"/><line stroke=\"black\" stroke-width=\"2\" x1=\"902.0\" x2=\"902.0\" y1=\"250\" y2=\"550\"/><rect fill=\"black\" height=\"20\" stroke=\"black\" stroke-width=\"2\" width=\"20\" x=\"890.0\" y=\"540.0\"/><rect fill=\"white\" height=\"100\" stroke=\"black\" stroke-width=\"2\" width=\"100\" x=\"850.0\" y=\"200.0\"/><text font-size=\"114\" text-anchor=\"middle\" x=\"900.0\" y=\"291.8\">M</text></svg>"
      ],
      "text/plain": [
       "<IPython.core.display.SVG object>"
      ]
     },
     "metadata": {},
     "output_type": "display_data"
    },
    {
     "name": "stdout",
     "output_type": "stream",
     "text": [
      "{'0000000000000000': 38, '0000000000000001': 95, '0000000000000010': 87, '0000000000000011': 804}\n"
     ]
    }
   ],
   "source": [
    "qp = cnot.cnot_experiment(2, cnot.set_one)\n",
    "qasm = qp.get_circuit('CNOT').qasm()\n",
    "svg = qasm2svg(qasm, basis=basis)\n",
    "display(SVG(data=svg))\n",
    "result = qp.execute('CNOT', backend='ibmqx5')\n",
    "print(result.get_counts())"
   ]
  },
  {
   "cell_type": "code",
   "execution_count": null,
   "metadata": {},
   "outputs": [],
   "source": []
  }
 ],
 "metadata": {
  "kernelspec": {
   "display_name": "Python 3",
   "language": "python",
   "name": "python3"
  },
  "language_info": {
   "codemirror_mode": {
    "name": "ipython",
    "version": 3
   },
   "file_extension": ".py",
   "mimetype": "text/x-python",
   "name": "python",
   "nbconvert_exporter": "python",
   "pygments_lexer": "ipython3",
   "version": "3.6.4"
  }
 },
 "nbformat": 4,
 "nbformat_minor": 2
}
